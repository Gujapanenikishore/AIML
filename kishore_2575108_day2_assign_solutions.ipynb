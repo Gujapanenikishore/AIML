{
 "cells": [
  {
   "cell_type": "markdown",
   "id": "9495152c",
   "metadata": {},
   "source": [
    "# 1.write a python function to the list even and odd numbers in a list"
   ]
  },
  {
   "cell_type": "code",
   "execution_count": null,
   "id": "65ccc103",
   "metadata": {},
   "outputs": [],
   "source": []
  },
  {
   "cell_type": "code",
   "execution_count": 1,
   "id": "d1176485",
   "metadata": {},
   "outputs": [
    {
     "name": "stdout",
     "output_type": "stream",
     "text": [
      "Even numbers: [2, 4, 6, 8]\n",
      "Odd numbers: [1, 3, 5, 7, 9]\n"
     ]
    }
   ],
   "source": [
    "def separate_even_odd(numbers):\n",
    "    even_numbers = []\n",
    "    odd_numbers = []\n",
    "\n",
    "    for num in numbers:\n",
    "        if num % 2 == 0:\n",
    "            even_numbers.append(num)\n",
    "        else:\n",
    "            odd_numbers.append(num)\n",
    "\n",
    "    return even_numbers, odd_numbers\n",
    "\n",
    "# Example usage:\n",
    "numbers = [1, 2, 3, 4, 5, 6, 7, 8, 9]\n",
    "even, odd = separate_even_odd(numbers)\n",
    "print(\"Even numbers:\", even)\n",
    "print(\"Odd numbers:\", odd)\n"
   ]
  },
  {
   "cell_type": "markdown",
   "id": "8d689462",
   "metadata": {},
   "source": [
    "# 2.write and run a python program that asks the user to entter 8 integers (one at a time ),and then prints out how many of those integers wereeven numbers.For example,if then user entered 19,,6,9,20,13,7,6 and 1,then your program shouuld print out 3since 3 of those numbers were even "
   ]
  },
  {
   "cell_type": "code",
   "execution_count": 1,
   "id": "d0ebb080",
   "metadata": {},
   "outputs": [
    {
     "name": "stdout",
     "output_type": "stream",
     "text": [
      "Enter integer 1: 1245\n",
      "Enter integer 2: 55\n",
      "Enter integer 3: 656\n",
      "Enter integer 4: 262\n",
      "Enter integer 5: 62\n",
      "Enter integer 6: 62\n",
      "Enter integer 7: +626\n",
      "Enter integer 8: 5656\n",
      "Count of even numbers: 6\n"
     ]
    }
   ],
   "source": [
    "\n",
    "\n",
    "# Initialize a variable to keep track of the count of even numbers\n",
    "even_count = 0\n",
    "\n",
    "# Ask the user to enter 8 integers one at a time\n",
    "for i in range(8):\n",
    "    try:\n",
    "        num = int(input(f\"Enter integer {i+1}: \"))\n",
    "        \n",
    "        # Check if the entered number is even\n",
    "        if num % 2 == 0:\n",
    "            even_count += 1\n",
    "    except ValueError:\n",
    "        print(\"Invalid input! Please enter an integer.\")\n",
    "\n",
    "# Print the count of even numbers\n",
    "print(\"Count of even numbers:\", even_count)\n"
   ]
  },
  {
   "cell_type": "markdown",
   "id": "34a546a4",
   "metadata": {},
   "source": [
    "# # 3.write a python program where you take any positive integer n,if n is even,divide it by 2to get n/2 if n is odd,multiply it by 3 and add 1 to obtain 3n+1.Repeat the process untill you reach 1"
   ]
  },
  {
   "cell_type": "code",
   "execution_count": 1,
   "id": "f3d677b5",
   "metadata": {},
   "outputs": [
    {
     "name": "stdout",
     "output_type": "stream",
     "text": [
      "Enter a positive integer: 5\n",
      "5 -> 16 -> 8 -> 4 -> 2 -> 1\n"
     ]
    }
   ],
   "source": [
    "def collatz_sequence(n):\n",
    "    while n != 1:\n",
    "        print(n, end=\" -> \")\n",
    "        if n % 2 == 0:\n",
    "            n = n // 2\n",
    "        else:\n",
    "            n = 3 * n + 1\n",
    "    print(1)  # Print the final 1 in the sequence\n",
    "\n",
    "try:\n",
    "    n = int(input(\"Enter a positive integer: \"))\n",
    "    if n <= 0:\n",
    "        print(\"Please enter a positive integer.\")\n",
    "    else:\n",
    "        collatz_sequence(n)\n",
    "except ValueError:\n",
    "    print(\"Invalid input! Please enter a positive integer.\")\n"
   ]
  },
  {
   "cell_type": "markdown",
   "id": "5571bc67",
   "metadata": {},
   "source": [
    "# 4.write a python program to compute  the sum of all the multiples of 3 or 5 below 500"
   ]
  },
  {
   "cell_type": "code",
   "execution_count": 5,
   "id": "35424d54",
   "metadata": {},
   "outputs": [
    {
     "name": "stdout",
     "output_type": "stream",
     "text": [
      "Sum of multiples of 3 or 5 below 500 is: 57918\n"
     ]
    }
   ],
   "source": [
    "def sum_multiples_3_or_5(limit):\n",
    "    total = 0\n",
    "    for num in range(limit):\n",
    "        if num % 3 == 0 or num % 5 == 0:\n",
    "            total += num\n",
    "    return total\n",
    "\n",
    "limit = 500\n",
    "result = sum_multiples_3_or_5(limit)\n",
    "print(\"Sum of multiples of 3 or 5 below\", limit, \"is:\", result)\n"
   ]
  },
  {
   "cell_type": "markdown",
   "id": "0881e255",
   "metadata": {},
   "source": [
    "# 5.to write a python program to find first 'n' pime numbers from the list of given numbers "
   ]
  },
  {
   "cell_type": "code",
   "execution_count": 7,
   "id": "baf3bafd",
   "metadata": {},
   "outputs": [
    {
     "name": "stdout",
     "output_type": "stream",
     "text": [
      "Enter the number of prime numbers you want to find: 15\n",
      "The first 15 prime numbers are: [2, 3, 5, 7, 11, 13, 17, 19, 23, 29, 31, 37, 41, 43, 47]\n"
     ]
    }
   ],
   "source": [
    "def is_prime(number):\n",
    "    if number <= 1:\n",
    "        return False\n",
    "    if number <= 3:\n",
    "        return True\n",
    "    if number % 2 == 0 or number % 3 == 0:\n",
    "        return False\n",
    "    i = 5\n",
    "    while i * i <= number:\n",
    "        if number % i == 0 or number % (i + 2) == 0:\n",
    "            return False\n",
    "        i += 6\n",
    "    return True\n",
    "\n",
    "def generate_primes(n):\n",
    "    primes = []\n",
    "    num = 2\n",
    "    while len(primes) < n:\n",
    "        if is_prime(num):\n",
    "            primes.append(num)\n",
    "        num += 1\n",
    "    return primes\n",
    "\n",
    "try:\n",
    "    n = int(input(\"Enter the number of prime numbers you want to find: \"))\n",
    "    if n <= 0:\n",
    "        print(\"Please enter a positive integer.\")\n",
    "    else:\n",
    "        prime_numbers = generate_primes(n)\n",
    "        print(f\"The first {n} prime numbers are: {prime_numbers}\")\n",
    "except ValueError:\n",
    "    print(\"Invalid input! Please enter a positive integer.\")\n"
   ]
  },
  {
   "cell_type": "markdown",
   "id": "d219f94d",
   "metadata": {},
   "source": [
    "# 6. to write  apython programm  to computr matrix multiplication"
   ]
  },
  {
   "cell_type": "code",
   "execution_count": 9,
   "id": "e6109c18",
   "metadata": {},
   "outputs": [
    {
     "name": "stdout",
     "output_type": "stream",
     "text": [
      "[19, 22]\n",
      "[43, 50]\n"
     ]
    }
   ],
   "source": [
    "def matrix_multiply(matrix1, matrix2):\n",
    "    if len(matrix1[0]) != len(matrix2):\n",
    "        raise ValueError(\"Matrix dimensions are not compatible for multiplication\")\n",
    "\n",
    "    result = [[0 for _ in range(len(matrix2[0]))] for _ in range(len(matrix1))]\n",
    "\n",
    "    for i in range(len(matrix1)):\n",
    "        for j in range(len(matrix2[0])):\n",
    "            for k in range(len(matrix2)):\n",
    "                result[i][j] += matrix1[i][k] * matrix2[k][j]\n",
    "\n",
    "    return result\n",
    "\n",
    "# Example matrices\n",
    "matrix_A = [\n",
    "    [1, 2],\n",
    "    [3, 4],\n",
    "]\n",
    "\n",
    "matrix_B = [\n",
    "    [5, 6],\n",
    "    [7, 8],\n",
    "]\n",
    "\n",
    "# Perform matrix multiplication\n",
    "result_matrix = matrix_multiply(matrix_A, matrix_B)\n",
    "\n",
    "# Print the result\n",
    "for row in result_matrix:\n",
    "    print(row)\n"
   ]
  },
  {
   "cell_type": "markdown",
   "id": "aeebf2d6",
   "metadata": {},
   "source": [
    "# 7.write a python function to count thr no of vowels in a string"
   ]
  },
  {
   "cell_type": "code",
   "execution_count": 10,
   "id": "878b9a3c",
   "metadata": {},
   "outputs": [
    {
     "name": "stdout",
     "output_type": "stream",
     "text": [
      "Number of vowels: 3\n"
     ]
    }
   ],
   "source": [
    "def count_vowels(string):\n",
    "    # Define a set of vowels\n",
    "    vowels = set(\"AEIOUaeiou\")\n",
    "\n",
    "    # Initialize a variable to keep track of the count\n",
    "    count = 0\n",
    "\n",
    "    # Iterate through each character in the string\n",
    "    for char in string:\n",
    "        if char in vowels:\n",
    "            count += 1\n",
    "\n",
    "    return count\n",
    "\n",
    "# Example usage:\n",
    "input_string = \"Hello, World!\"\n",
    "vowel_count = count_vowels(input_string)\n",
    "print(\"Number of vowels:\", vowel_count)\n"
   ]
  },
  {
   "cell_type": "markdown",
   "id": "e8e6ee31",
   "metadata": {},
   "source": [
    "# 8.write a python function for finding factorial for the given numbers using a recursive ffunction"
   ]
  },
  {
   "cell_type": "code",
   "execution_count": 14,
   "id": "1fccdc68",
   "metadata": {},
   "outputs": [
    {
     "name": "stdout",
     "output_type": "stream",
     "text": [
      "Enter a non-negative integer: 10\n",
      "The factorial of 10 is 3628800\n"
     ]
    }
   ],
   "source": [
    "def factorial_recursive(n):\n",
    "    if n == 0:\n",
    "        return 1\n",
    "    else:\n",
    "        return n * factorial_recursive(n - 1)\n",
    "\n",
    "# Example usage:\n",
    "num = int(input(\"Enter a non-negative integer: \"))\n",
    "\n",
    "if num < 0:\n",
    "    print(\"Factorial is not defined for negative numbers.\")\n",
    "else:\n",
    "    result = factorial_recursive(num)\n",
    "    print(f\"The factorial of {num} is {result}\")\n"
   ]
  },
  {
   "cell_type": "markdown",
   "id": "70fdaa9f",
   "metadata": {},
   "source": [
    "# 9. write a python function for generating fibonacci series using the function"
   ]
  },
  {
   "cell_type": "code",
   "execution_count": 11,
   "id": "1cd82868",
   "metadata": {},
   "outputs": [
    {
     "name": "stdout",
     "output_type": "stream",
     "text": [
      "Enter the number of Fibonacci numbers to generate: 12\n",
      "Fibonacci Series: [0, 1, 1, 2, 3, 5, 8, 13, 21, 34, 55, 89]\n"
     ]
    }
   ],
   "source": [
    "def fibonacci(n):\n",
    "    if n <= 0:\n",
    "        return []\n",
    "    elif n == 1:\n",
    "        return [0]\n",
    "    elif n == 2:\n",
    "        return [0, 1]\n",
    "    else:\n",
    "        fib_series = fibonacci(n - 1)\n",
    "        fib_series.append(fib_series[-1] + fib_series[-2])\n",
    "        return fib_series\n",
    "\n",
    "# Example usage:\n",
    "n = int(input(\"Enter the number of Fibonacci numbers to generate: \"))\n",
    "fib_series = fibonacci(n)\n",
    "print(\"Fibonacci Series:\", fib_series)\n"
   ]
  },
  {
   "cell_type": "markdown",
   "id": "7cb7ee15",
   "metadata": {},
   "source": [
    "# 10.python progamm to display the given integer in reverse order using the function without an in built  function"
   ]
  },
  {
   "cell_type": "code",
   "execution_count": 15,
   "id": "5da97310",
   "metadata": {},
   "outputs": [
    {
     "name": "stdout",
     "output_type": "stream",
     "text": [
      "Enter an integer: 12\n",
      "Reversed integer: 21\n"
     ]
    }
   ],
   "source": [
    "def reverse_integer(number):\n",
    "    # Convert the integer to a string\n",
    "    num_str = str(number)\n",
    "    \n",
    "    # Reverse the string\n",
    "    reversed_str = num_str[::-1]\n",
    "    \n",
    "    # Convert the reversed string back to an integer\n",
    "    reversed_num = int(reversed_str)\n",
    "    \n",
    "    return reversed_num\n",
    "\n",
    "# Example usage:\n",
    "num = int(input(\"Enter an integer: \"))\n",
    "reversed_num = reverse_integer(num)\n",
    "print(\"Reversed integer:\", reversed_num)\n"
   ]
  },
  {
   "cell_type": "markdown",
   "id": "016a0a6a",
   "metadata": {},
   "source": [
    "# 11.write a python function to display all integers with in the range 200-300  whose sum of digits is an even number"
   ]
  },
  {
   "cell_type": "code",
   "execution_count": 16,
   "id": "3cfeb3dc",
   "metadata": {},
   "outputs": [
    {
     "name": "stdout",
     "output_type": "stream",
     "text": [
      "Integers in the range 200 to 300 with an even sum of digits:\n",
      "200 202 204 206 208 211 213 215 217 219 220 222 224 226 228 231 233 235 237 239 240 242 244 246 248 251 253 255 257 259 260 262 264 266 268 271 273 275 277 279 280 282 284 286 288 291 293 295 297 299 "
     ]
    }
   ],
   "source": [
    "def sum_of_digits_is_even(num):\n",
    "    digit_sum = sum(int(digit) for digit in str(num))\n",
    "    return digit_sum % 2 == 0\n",
    "\n",
    "def find_integers_with_even_digit_sum(start, end):\n",
    "    result = []\n",
    "    for num in range(start, end + 1):\n",
    "        if sum_of_digits_is_even(num):\n",
    "            result.append(num)\n",
    "    return result\n",
    "\n",
    "# Example usage:\n",
    "start_range = 200\n",
    "end_range = 300\n",
    "even_digit_sum_integers = find_integers_with_even_digit_sum(start_range, end_range)\n",
    "\n",
    "print(\"Integers in the range\", start_range, \"to\", end_range, \"with an even sum of digits:\")\n",
    "for num in even_digit_sum_integers:\n",
    "    print(num, end=\" \")\n"
   ]
  },
  {
   "cell_type": "markdown",
   "id": "dd5a2f4f",
   "metadata": {},
   "source": [
    "# 12. write a python function to find the no of digitd and sum of digits for a given integer"
   ]
  },
  {
   "cell_type": "code",
   "execution_count": 17,
   "id": "3bb5a590",
   "metadata": {},
   "outputs": [
    {
     "name": "stdout",
     "output_type": "stream",
     "text": [
      "Enter an integer: 14587\n",
      "Number of digits: 5\n",
      "Sum of digits: 25\n"
     ]
    }
   ],
   "source": [
    "def count_digits_and_sum(num):\n",
    "    num_str = str(num)  # Convert the integer to a string to count digits and sum them\n",
    "    num_digits = len(num_str)\n",
    "    digit_sum = sum(int(digit) for digit in num_str)\n",
    "    return num_digits, digit_sum\n",
    "\n",
    "# Example usage:\n",
    "num = int(input(\"Enter an integer: \"))\n",
    "num_digits, digit_sum = count_digits_and_sum(num)\n",
    "\n",
    "print(\"Number of digits:\", num_digits)\n",
    "print(\"Sum of digits:\", digit_sum)\n"
   ]
  },
  {
   "cell_type": "markdown",
   "id": "b42e4387",
   "metadata": {},
   "source": [
    "# 13.write function called  is _sorted that takes a list as a parameter and returns true if the list is sorted in ascending order and false otherwise  and has_duplicates that takes a list and returns true if there is any element that appears morethan once.it shouldnot modify the original list"
   ]
  },
  {
   "cell_type": "code",
   "execution_count": 18,
   "id": "b864177c",
   "metadata": {},
   "outputs": [
    {
     "name": "stdout",
     "output_type": "stream",
     "text": [
      "Is sorted: True\n",
      "Has duplicates: False\n",
      "Is sorted: False\n",
      "Has duplicates: True\n",
      "Is sorted: False\n",
      "Has duplicates: True\n"
     ]
    }
   ],
   "source": [
    "def is_sorted(arr):\n",
    "    \"\"\"\n",
    "    Check if a list is sorted in ascending order.\n",
    "\n",
    "    Args:\n",
    "        arr (list): The input list.\n",
    "\n",
    "    Returns:\n",
    "        bool: True if the list is sorted in ascending order, False otherwise.\n",
    "    \"\"\"\n",
    "    return all(arr[i] <= arr[i+1] for i in range(len(arr)-1))\n",
    "\n",
    "def has_duplicates(arr):\n",
    "    \"\"\"\n",
    "    Check if a list has any duplicate elements.\n",
    "\n",
    "    Args:\n",
    "        arr (list): The input list.\n",
    "\n",
    "    Returns:\n",
    "        bool: True if there are duplicate elements, False otherwise.\n",
    "    \"\"\"\n",
    "    seen = set()\n",
    "    for element in arr:\n",
    "        if element in seen:\n",
    "            return True\n",
    "        seen.add(element)\n",
    "    return False\n",
    "\n",
    "# Example usage:\n",
    "sorted_list = [1, 2, 3, 4, 5]\n",
    "unsorted_list = [5, 2, 8, 1, 3, 5]\n",
    "list_with_duplicates = [1, 2, 3, 2, 4]\n",
    "\n",
    "print(\"Is sorted:\", is_sorted(sorted_list))\n",
    "print(\"Has duplicates:\", has_duplicates(sorted_list))\n",
    "\n",
    "print(\"Is sorted:\", is_sorted(unsorted_list))\n",
    "print(\"Has duplicates:\", has_duplicates(unsorted_list))\n",
    "\n",
    "print(\"Is sorted:\", is_sorted(list_with_duplicates))\n",
    "print(\"Has duplicates:\", has_duplicates(list_with_duplicates))\n"
   ]
  },
  {
   "cell_type": "markdown",
   "id": "16f0afec",
   "metadata": {},
   "source": [
    "# 14.write functions called nested_sum that takes a list of integers and adds up to elements from all the nested lists and cumsum that takes a list of numbers and returns the cumulative sum; that is, a new list where the ith element is sum of the first i+1 elements from the original list"
   ]
  },
  {
   "cell_type": "code",
   "execution_count": 2,
   "id": "139d38e4",
   "metadata": {},
   "outputs": [
    {
     "name": "stdout",
     "output_type": "stream",
     "text": [
      "Nested sum: 45\n",
      "Cumulative sum: [1, 3, 6, 10, 15]\n"
     ]
    }
   ],
   "source": [
    "def nested_sum(lst):\n",
    "    \"\"\"\n",
    "    Add up the elements from all the nested lists.\n",
    "\n",
    "    Args:\n",
    "        lst (list): A list containing nested lists of integers.\n",
    "\n",
    "    Returns:\n",
    "        int: The sum of all the elements in the nested lists.\n",
    "    \"\"\"\n",
    "    total = 0\n",
    "    for sublist in lst:\n",
    "        total += sum(sublist)\n",
    "    return total\n",
    "\n",
    "def cumsum(numbers):\n",
    "    \"\"\"\n",
    "    Compute the cumulative sum of a list of numbers.\n",
    "\n",
    "    Args:\n",
    "        numbers (list): A list of numbers.\n",
    "\n",
    "    Returns:\n",
    "        list: A new list where the ith element is the sum of the first i+1 elements from the original list.\n",
    "    \"\"\"\n",
    "    cumulative_sum = []\n",
    "    current_sum = 0\n",
    "\n",
    "    for num in numbers:\n",
    "        current_sum += num\n",
    "        cumulative_sum.append(current_sum)\n",
    "\n",
    "    return cumulative_sum\n",
    "\n",
    "# Example usage:\n",
    "nested_list = [[1, 2, 3], [4, 5, 6], [7, 8, 9]]\n",
    "numbers_list = [1, 2, 3, 4, 5]\n",
    "\n",
    "result_nested_sum = nested_sum(nested_list)\n",
    "result_cumsum = cumsum(numbers_list)\n",
    "\n",
    "print(\"Nested sum:\", result_nested_sum)\n",
    "print(\"Cumulative sum:\", result_cumsum)\n"
   ]
  },
  {
   "cell_type": "code",
   "execution_count": null,
   "id": "f84cf6a6",
   "metadata": {},
   "outputs": [],
   "source": []
  },
  {
   "cell_type": "code",
   "execution_count": null,
   "id": "1a8b6902",
   "metadata": {},
   "outputs": [],
   "source": []
  }
 ],
 "metadata": {
  "kernelspec": {
   "display_name": "Python 3 (ipykernel)",
   "language": "python",
   "name": "python3"
  },
  "language_info": {
   "codemirror_mode": {
    "name": "ipython",
    "version": 3
   },
   "file_extension": ".py",
   "mimetype": "text/x-python",
   "name": "python",
   "nbconvert_exporter": "python",
   "pygments_lexer": "ipython3",
   "version": "3.11.4"
  }
 },
 "nbformat": 4,
 "nbformat_minor": 5
}
