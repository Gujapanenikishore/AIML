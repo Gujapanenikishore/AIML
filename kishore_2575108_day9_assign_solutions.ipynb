{
 "cells": [
  {
   "cell_type": "markdown",
   "id": "895fe031",
   "metadata": {},
   "source": [
    "# 1.create  a 3x3x3 array with random values\n"
   ]
  },
  {
   "cell_type": "code",
   "execution_count": 17,
   "id": "85950e3b",
   "metadata": {},
   "outputs": [
    {
     "name": "stdout",
     "output_type": "stream",
     "text": [
      "[[[0.61600105 0.67204232 0.99022882]\n",
      "  [0.60068253 0.70159813 0.55779981]\n",
      "  [0.47377508 0.70845216 0.90432152]]\n",
      "\n",
      " [[0.46928965 0.45078981 0.19183183]\n",
      "  [0.27883361 0.10674639 0.04154554]\n",
      "  [0.1116291  0.3257641  0.22909182]]\n",
      "\n",
      " [[0.17860375 0.10509624 0.86647238]\n",
      "  [0.19897231 0.58905612 0.81665557]\n",
      "  [0.50574091 0.86659737 0.38192557]]]\n"
     ]
    }
   ],
   "source": [
    "import numpy as np\n",
    "\n",
    "# Create a 3x3x3 array with random values between 0 and 1\n",
    "random_array = np.random.rand(3, 3, 3)\n",
    "\n",
    "print(random_array)\n"
   ]
  },
  {
   "cell_type": "markdown",
   "id": "62bc1b58",
   "metadata": {},
   "source": [
    "# 2.create  a 5x5 matrix with values 1,2,3,4 just below the diagonal"
   ]
  },
  {
   "cell_type": "code",
   "execution_count": 2,
   "id": "b215cdd0",
   "metadata": {},
   "outputs": [
    {
     "name": "stdout",
     "output_type": "stream",
     "text": [
      "[[0. 0. 0. 0. 0.]\n",
      " [1. 0. 0. 0. 0.]\n",
      " [0. 2. 0. 0. 0.]\n",
      " [0. 0. 3. 0. 0.]\n",
      " [0. 0. 0. 4. 0.]]\n"
     ]
    }
   ],
   "source": [
    "import numpy as np\n",
    "\n",
    "# Create a 5x5 matrix filled with zeros\n",
    "matrix = np.zeros((5, 5))\n",
    "\n",
    "# Fill values 1, 2, 3, and 4 just below the diagonal\n",
    "for i in range(1, 5):\n",
    "    matrix[i, i - 1] = i\n",
    "\n",
    "print(matrix)\n"
   ]
  },
  {
   "cell_type": "markdown",
   "id": "0997cffa",
   "metadata": {},
   "source": [
    "# 3.create a 8x8 matrix and fill it with a checkerboard pattern"
   ]
  },
  {
   "cell_type": "code",
   "execution_count": 3,
   "id": "2064b8cf",
   "metadata": {},
   "outputs": [
    {
     "name": "stdout",
     "output_type": "stream",
     "text": [
      "[[0 1 0 1 0 1 0 1]\n",
      " [1 0 1 0 1 0 1 0]\n",
      " [0 1 0 1 0 1 0 1]\n",
      " [1 0 1 0 1 0 1 0]\n",
      " [0 1 0 1 0 1 0 1]\n",
      " [1 0 1 0 1 0 1 0]\n",
      " [0 1 0 1 0 1 0 1]\n",
      " [1 0 1 0 1 0 1 0]]\n"
     ]
    }
   ],
   "source": [
    "import numpy as np\n",
    "\n",
    "# Create an 8x8 matrix filled with zeros\n",
    "matrix = np.zeros((8, 8), dtype=int)\n",
    "\n",
    "# Fill the checkerboard pattern\n",
    "matrix[1::2, ::2] = 1  # Rows 1, 3, 5, 7; Columns 0, 2, 4, 6\n",
    "matrix[::2, 1::2] = 1  # Rows 0, 2, 4, 6; Columns 1, 3, 5, 7\n",
    "\n",
    "print(matrix)\n"
   ]
  },
  {
   "cell_type": "markdown",
   "id": "6175a8b5",
   "metadata": {},
   "source": [
    "# 4.Normalize a 5x5 random matrix\n"
   ]
  },
  {
   "cell_type": "code",
   "execution_count": 4,
   "id": "6141a145",
   "metadata": {},
   "outputs": [
    {
     "name": "stdout",
     "output_type": "stream",
     "text": [
      "Original Matrix:\n",
      "[[0.56538523 0.12659522 0.51032888 0.28570363 0.21384638]\n",
      " [0.8197832  0.17073694 0.46310731 0.65368324 0.13821847]\n",
      " [0.96430357 0.5654162  0.80582567 0.53526497 0.8985754 ]\n",
      " [0.96057884 0.09498862 0.36096093 0.94405383 0.18018478]\n",
      " [0.14596547 0.89101106 0.65723438 0.54266086 0.6554347 ]]\n",
      "\n",
      "Normalized Matrix:\n",
      "[[ 0.13531317 -1.37197494 -0.05381096 -0.82542146 -1.07225839]\n",
      " [ 1.00919598 -1.22034369 -0.21602185  0.43862578 -1.33204791]\n",
      " [ 1.50563807  0.13541956  0.96125043  0.03184702  1.27985515]\n",
      " [ 1.49284324 -1.48054682 -0.566905    1.43607815 -1.18788939]\n",
      " [-1.30543617  1.25387087  0.45082431  0.05725266  0.44464222]]\n"
     ]
    }
   ],
   "source": [
    "import numpy as np\n",
    "\n",
    "# Create a 5x5 random matrix\n",
    "random_matrix = np.random.rand(5, 5)\n",
    "\n",
    "# Calculate the mean and standard deviation of the matrix\n",
    "mean_value = np.mean(random_matrix)\n",
    "std_deviation = np.std(random_matrix)\n",
    "\n",
    "# Normalize the matrix\n",
    "normalized_matrix = (random_matrix - mean_value) / std_deviation\n",
    "\n",
    "print(\"Original Matrix:\")\n",
    "print(random_matrix)\n",
    "print(\"\\nNormalized Matrix:\")\n",
    "print(normalized_matrix)\n"
   ]
  },
  {
   "cell_type": "markdown",
   "id": "5b8c0957",
   "metadata": {},
   "source": [
    "# 5.how to find common values between two arrays?"
   ]
  },
  {
   "cell_type": "code",
   "execution_count": 5,
   "id": "27f32a3e",
   "metadata": {},
   "outputs": [
    {
     "name": "stdout",
     "output_type": "stream",
     "text": [
      "[3, 4, 5]\n"
     ]
    }
   ],
   "source": [
    "array1 = [1, 2, 3, 4, 5]\n",
    "array2 = [3, 4, 5, 6, 7]\n",
    "\n",
    "set1 = set(array1)\n",
    "set2 = set(array2)\n",
    "\n",
    "common_values = set1.intersection(set2)\n",
    "print(list(common_values))\n"
   ]
  },
  {
   "cell_type": "markdown",
   "id": "8ad0c380",
   "metadata": {},
   "source": [
    "# 6.how to get the dates of yesterday,today and tomorrow?"
   ]
  },
  {
   "cell_type": "code",
   "execution_count": 6,
   "id": "9ddf6cc0",
   "metadata": {},
   "outputs": [
    {
     "name": "stdout",
     "output_type": "stream",
     "text": [
      "Yesterday: 2023-09-20\n",
      "Today: 2023-09-21\n",
      "Tomorrow: 2023-09-22\n"
     ]
    }
   ],
   "source": [
    "from datetime import datetime, timedelta\n",
    "\n",
    "# Get today's date\n",
    "today = datetime.today().date()\n",
    "\n",
    "# Calculate yesterday's date\n",
    "yesterday = today - timedelta(days=1)\n",
    "\n",
    "# Calculate tomorrow's date\n",
    "tomorrow = today + timedelta(days=1)\n",
    "\n",
    "# Print the dates\n",
    "print(\"Yesterday:\", yesterday)\n",
    "print(\"Today:\", today)\n",
    "print(\"Tomorrow:\", tomorrow)\n"
   ]
  },
  {
   "cell_type": "markdown",
   "id": "0ee7b34e",
   "metadata": {},
   "source": [
    "# 7.Consider two random array a  and b ,check if they are equal"
   ]
  },
  {
   "cell_type": "code",
   "execution_count": 7,
   "id": "ba09dfbd",
   "metadata": {},
   "outputs": [
    {
     "name": "stdout",
     "output_type": "stream",
     "text": [
      "Arrays are equal.\n"
     ]
    }
   ],
   "source": [
    "import numpy as np\n",
    "\n",
    "# Assuming you have two NumPy arrays a and b\n",
    "a = np.array([1, 2, 3])\n",
    "b = np.array([1, 2, 3])\n",
    "\n",
    "are_equal = np.array_equal(a, b)\n",
    "\n",
    "if are_equal:\n",
    "    print(\"Arrays are equal.\")\n",
    "else:\n",
    "    print(\"Arrays are not equal.\")\n"
   ]
  },
  {
   "cell_type": "markdown",
   "id": "13119836",
   "metadata": {},
   "source": [
    "# 8.create vector of size 10 and replace the maximum value by 0"
   ]
  },
  {
   "cell_type": "code",
   "execution_count": 9,
   "id": "6b7eedd4",
   "metadata": {},
   "outputs": [
    {
     "name": "stdout",
     "output_type": "stream",
     "text": [
      "Original Vector:\n",
      "[0.         0.24905113 0.72666676 0.38661856 0.35597016 0.83528714\n",
      " 0.69760429 0.87391663 0.16061294 0.09725749]\n"
     ]
    }
   ],
   "source": [
    "import numpy as np\n",
    "\n",
    "# Create a random vector of size 10\n",
    "vector = np.random.rand(10)\n",
    "\n",
    "# Find the index of the maximum value in the vector\n",
    "max_index = np.argmax(vector)\n",
    "\n",
    "# Replace the maximum value with 0\n",
    "vector[max_index] = 0\n",
    "\n",
    "print(\"Original Vector:\")\n",
    "print(vector)\n"
   ]
  },
  {
   "cell_type": "markdown",
   "id": "45cc2da0",
   "metadata": {},
   "source": [
    "# 9.how to print all the values of an array ?"
   ]
  },
  {
   "cell_type": "code",
   "execution_count": 8,
   "id": "fc6292b3",
   "metadata": {},
   "outputs": [
    {
     "name": "stdout",
     "output_type": "stream",
     "text": [
      "1\n",
      "2\n",
      "3\n",
      "4\n",
      "5\n",
      "1\n",
      "2\n",
      "3\n",
      "4\n",
      "5\n"
     ]
    }
   ],
   "source": [
    "import numpy as np\n",
    "\n",
    "my_array = np.array([1, 2, 3, 4, 5])\n",
    "\n",
    "# Using a loop\n",
    "for value in my_array:\n",
    "    print(value)\n",
    "\n",
    "# Using numpy.nditer\n",
    "for value in np.nditer(my_array):\n",
    "    print(value)\n"
   ]
  },
  {
   "cell_type": "markdown",
   "id": "b83b87fd",
   "metadata": {},
   "source": [
    "# 10.subract the mean of each row of a matrix?\n"
   ]
  },
  {
   "cell_type": "code",
   "execution_count": 10,
   "id": "114b3510",
   "metadata": {},
   "outputs": [
    {
     "name": "stdout",
     "output_type": "stream",
     "text": [
      "Original Matrix:\n",
      "[[1 2 3]\n",
      " [4 5 6]\n",
      " [7 8 9]]\n",
      "\n",
      "Matrix with Row Means Subtracted:\n",
      "[[-1.  0.  1.]\n",
      " [-1.  0.  1.]\n",
      " [-1.  0.  1.]]\n"
     ]
    }
   ],
   "source": [
    "import numpy as np\n",
    "\n",
    "# Create a sample matrix (replace this with your actual matrix)\n",
    "matrix = np.array([[1, 2, 3],\n",
    "                   [4, 5, 6],\n",
    "                   [7, 8, 9]])\n",
    "\n",
    "# Calculate the mean of each row along axis 1 (rows)\n",
    "row_means = np.mean(matrix, axis=1, keepdims=True)\n",
    "\n",
    "# Subtract the row means from each row\n",
    "normalized_matrix = matrix - row_means\n",
    "\n",
    "print(\"Original Matrix:\")\n",
    "print(matrix)\n",
    "print(\"\\nMatrix with Row Means Subtracted:\")\n",
    "print(normalized_matrix)\n"
   ]
  },
  {
   "cell_type": "markdown",
   "id": "43d8a066",
   "metadata": {},
   "source": [
    "# 11.consider a given vector,how to add 1 to  each element indexed by a second vector (be careful with repeated indices)"
   ]
  },
  {
   "cell_type": "code",
   "execution_count": 12,
   "id": "ae9aa591",
   "metadata": {},
   "outputs": [
    {
     "name": "stdout",
     "output_type": "stream",
     "text": [
      "Original Vector:\n",
      "[2 4 3 5 6]\n"
     ]
    }
   ],
   "source": [
    "import numpy as np\n",
    "\n",
    "# Given vector\n",
    "given_vector = np.array([1, 2, 3, 4, 5])\n",
    "\n",
    "# Second vector containing indices\n",
    "indices_to_add = np.array([1, 3, 1, 4, 0])\n",
    "\n",
    "# Create a mask to handle repeated indices\n",
    "mask = np.zeros_like(given_vector, dtype=bool)\n",
    "\n",
    "# Use np.add.at to add 1 to elements at the specified indices\n",
    "np.add.at(given_vector, indices_to_add, 1)\n",
    "\n",
    "print(\"Original Vector:\")\n",
    "print(given_vector)\n"
   ]
  },
  {
   "cell_type": "markdown",
   "id": "a661fba2",
   "metadata": {},
   "source": [
    "#  12.how to get the diagonal of a dot product?"
   ]
  },
  {
   "cell_type": "code",
   "execution_count": 11,
   "id": "7fdf42c2",
   "metadata": {},
   "outputs": [
    {
     "name": "stdout",
     "output_type": "stream",
     "text": [
      "Dot Product:\n",
      "[[ 30  24  18]\n",
      " [ 84  69  54]\n",
      " [138 114  90]]\n",
      "\n",
      "Diagonal of Dot Product:\n",
      "[30 69 90]\n"
     ]
    }
   ],
   "source": [
    "import numpy as np\n",
    "\n",
    "# Create two matrices (replace these with your matrices)\n",
    "matrix1 = np.array([[1, 2, 3],\n",
    "                    [4, 5, 6],\n",
    "                    [7, 8, 9]])\n",
    "\n",
    "matrix2 = np.array([[9, 8, 7],\n",
    "                    [6, 5, 4],\n",
    "                    [3, 2, 1]])\n",
    "\n",
    "# Calculate the dot product of the two matrices\n",
    "dot_product = np.dot(matrix1, matrix2)\n",
    "\n",
    "# Get the diagonal of the dot product\n",
    "diagonal = np.diag(dot_product)\n",
    "\n",
    "print(\"Dot Product:\")\n",
    "print(dot_product)\n",
    "print(\"\\nDiagonal of Dot Product:\")\n",
    "print(diagonal)\n"
   ]
  },
  {
   "cell_type": "markdown",
   "id": "52144d1c",
   "metadata": {},
   "source": [
    "# 13.how to find the most frequent value in an array?"
   ]
  },
  {
   "cell_type": "code",
   "execution_count": null,
   "id": "bd4cab75",
   "metadata": {},
   "outputs": [],
   "source": [
    "import numpy as np\n",
    "\n",
    "my_array = np.array([1, 2, 2, 3, 3, 3, 4, 4, 4, 4, 5])\n",
    "\n",
    "# Use np.unique to get unique values and their counts\n",
    "unique_values, counts = np.unique(my_array, return_counts=True)\n",
    "\n",
    "# Find the index of the maximum count\n",
    "max_count_index = np.argmax(counts)\n",
    "\n",
    "most_frequent_value = unique_values[max_count_index]\n",
    "frequency = counts[max_count_index]\n",
    "\n",
    "print(\"Most frequent value:\", most_frequent_value)\n",
    "print(\"Frequency:\", frequency)\n"
   ]
  },
  {
   "cell_type": "markdown",
   "id": "5cf47af7",
   "metadata": {},
   "source": [
    "# 14.how to get  the n largest values of an array"
   ]
  },
  {
   "cell_type": "code",
   "execution_count": 13,
   "id": "6faf4a0c",
   "metadata": {},
   "outputs": [
    {
     "name": "stdout",
     "output_type": "stream",
     "text": [
      "N Largest Values: [10 20 18]\n"
     ]
    }
   ],
   "source": [
    "import numpy as np\n",
    "\n",
    "# Create a NumPy array (replace this with your array)\n",
    "my_array = np.array([10, 5, 8, 20, 2, 18])\n",
    "\n",
    "# Specify the value of n (e.g., n = 3 for the 3 largest values)\n",
    "n = 3\n",
    "\n",
    "# Use numpy.partition to find the n largest values\n",
    "largest_n_values = np.partition(my_array, -n)[-n:]\n",
    "\n",
    "print(\"N Largest Values:\", largest_n_values)\n"
   ]
  },
  {
   "cell_type": "markdown",
   "id": "32a32113",
   "metadata": {},
   "source": [
    "# 15.how to create  a record array from a regular array?"
   ]
  },
  {
   "cell_type": "code",
   "execution_count": 14,
   "id": "a94a42f8",
   "metadata": {},
   "outputs": [
    {
     "name": "stdout",
     "output_type": "stream",
     "text": [
      "Record Array:\n",
      "[(1, 'Alice', 25) (2, 'Bob', 30) (3, 'Charlie', 35)]\n",
      "\n",
      "Accessing individual fields:\n",
      "First record ID: 1\n",
      "Second record Name: Bob\n",
      "Third record Age: 35\n"
     ]
    }
   ],
   "source": [
    "import numpy as np\n",
    "\n",
    "# Create a regular array (a list of tuples in this example)\n",
    "regular_array = [(1, 'Alice', 25),\n",
    "                 (2, 'Bob', 30),\n",
    "                 (3, 'Charlie', 35)]\n",
    "\n",
    "# Define the data type and field names for the record array\n",
    "dtype = [('ID', int), ('Name', 'U10'), ('Age', int)]\n",
    "\n",
    "# Create the record array using np.array() with the specified data type\n",
    "record_array = np.array(regular_array, dtype=dtype)\n",
    "\n",
    "# Access elements by field name\n",
    "print(\"Record Array:\")\n",
    "print(record_array)\n",
    "\n",
    "# Access individual fields\n",
    "print(\"\\nAccessing individual fields:\")\n",
    "print(\"First record ID:\", record_array['ID'][0])\n",
    "print(\"Second record Name:\", record_array['Name'][1])\n",
    "print(\"Third record Age:\", record_array['Age'][2])\n"
   ]
  },
  {
   "cell_type": "markdown",
   "id": "046b9b6e",
   "metadata": {},
   "source": [
    "# 16.how to swap two rows of an array ?"
   ]
  },
  {
   "cell_type": "code",
   "execution_count": 15,
   "id": "3ba43bfe",
   "metadata": {},
   "outputs": [
    {
     "name": "stdout",
     "output_type": "stream",
     "text": [
      "Array with Rows Swapped:\n",
      "[[7 8 9]\n",
      " [4 5 6]\n",
      " [1 2 3]]\n"
     ]
    }
   ],
   "source": [
    "import numpy as np\n",
    "\n",
    "# Create a sample 2D array (replace this with your array)\n",
    "array = np.array([[1, 2, 3],\n",
    "                  [4, 5, 6],\n",
    "                  [7, 8, 9]])\n",
    "\n",
    "# Specify the indices of the rows you want to swap\n",
    "row_index1 = 0  # Index of the first row to swap\n",
    "row_index2 = 2  # Index of the second row to swap\n",
    "\n",
    "# Swap the rows using slicing and assignment\n",
    "array[row_index1], array[row_index2] = array[row_index2].copy(), array[row_index1].copy()\n",
    "\n",
    "# Print the updated array\n",
    "print(\"Array with Rows Swapped:\")\n",
    "print(array)\n"
   ]
  },
  {
   "cell_type": "markdown",
   "id": "053b8767",
   "metadata": {},
   "source": [
    "# 17.write a python code to reshape to the next diemension of numpy array?"
   ]
  },
  {
   "cell_type": "code",
   "execution_count": 16,
   "id": "79af8a18",
   "metadata": {},
   "outputs": [
    {
     "name": "stdout",
     "output_type": "stream",
     "text": [
      "Original Array:\n",
      "[1 2 3 4 5 6]\n",
      "\n",
      "Reshaped Array:\n",
      "[[1]\n",
      " [2]\n",
      " [3]\n",
      " [4]\n",
      " [5]\n",
      " [6]]\n"
     ]
    }
   ],
   "source": [
    "import numpy as np\n",
    "\n",
    "# Create a sample 1D array (replace this with your array)\n",
    "original_array = np.array([1, 2, 3, 4, 5, 6])\n",
    "\n",
    "# Reshape the array to the next dimension (2D in this case)\n",
    "reshaped_array = original_array.reshape(-1, 1)\n",
    "\n",
    "# Print the original and reshaped arrays\n",
    "print(\"Original Array:\")\n",
    "print(original_array)\n",
    "print(\"\\nReshaped Array:\")\n",
    "print(reshaped_array)\n"
   ]
  },
  {
   "cell_type": "code",
   "execution_count": null,
   "id": "e34066d6",
   "metadata": {},
   "outputs": [],
   "source": []
  },
  {
   "cell_type": "code",
   "execution_count": null,
   "id": "7fa200a5",
   "metadata": {},
   "outputs": [],
   "source": []
  }
 ],
 "metadata": {
  "kernelspec": {
   "display_name": "Python 3 (ipykernel)",
   "language": "python",
   "name": "python3"
  },
  "language_info": {
   "codemirror_mode": {
    "name": "ipython",
    "version": 3
   },
   "file_extension": ".py",
   "mimetype": "text/x-python",
   "name": "python",
   "nbconvert_exporter": "python",
   "pygments_lexer": "ipython3",
   "version": "3.11.4"
  }
 },
 "nbformat": 4,
 "nbformat_minor": 5
}
