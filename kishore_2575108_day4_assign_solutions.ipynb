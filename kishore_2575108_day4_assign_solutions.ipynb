{
 "cells": [
  {
   "cell_type": "markdown",
   "id": "b0f844a4",
   "metadata": {},
   "source": [
    "# 1.write a python code with exception handling to input marks for five subjects physics,chemistry,biology,math and computer.calculate the percentage and grage according to the following \n",
    "i) percentage >=90%:grade A ii) percentage >=80%:grade B iii) percentage >=70%:grade C iv) percentage >=60%:grade D v) percentage >=40%:grade E vi) percentage <40%:grade F"
   ]
  },
  {
   "cell_type": "code",
   "execution_count": 15,
   "id": "b9a73511",
   "metadata": {},
   "outputs": [
    {
     "name": "stdout",
     "output_type": "stream",
     "text": [
      "Enter marks obtained in Physics: 99\n",
      "Enter marks obtained in Chemistry: 98\n",
      "Enter marks obtained in Biology: 97\n",
      "Enter marks obtained in Math: 96\n",
      "Enter marks obtained in Computer: 95\n",
      "Total Marks: 485.0\n",
      "Percentage: 97.00%\n",
      "Grade: A\n"
     ]
    }
   ],
   "source": [
    "try:\n",
    "    physics = float(input(\"Enter marks obtained in Physics: \"))\n",
    "    chemistry = float(input(\"Enter marks obtained in Chemistry: \"))\n",
    "    biology = float(input(\"Enter marks obtained in Biology: \"))\n",
    "    math = float(input(\"Enter marks obtained in Math: \"))\n",
    "    computer = float(input(\"Enter marks obtained in Computer: \"))\n",
    "\n",
    "    # Check if marks are within a valid range (0 to 100)\n",
    "    if any(marks < 0 or marks > 100 for marks in [physics, chemistry, biology, math, computer]):\n",
    "        raise ValueError(\"Invalid marks entered. Marks should be between 0 and 100.\")\n",
    "\n",
    "    # Calculate total marks and percentage\n",
    "    total_marks = physics + chemistry + biology + math + computer\n",
    "    percentage = (total_marks / 500) * 100\n",
    "\n",
    "    # Determine the grade based on the percentage\n",
    "    if percentage >= 90:\n",
    "        grade = \"A\"\n",
    "    elif percentage >= 80:\n",
    "        grade = \"B\"\n",
    "    elif percentage >= 70:\n",
    "        grade = \"C\"\n",
    "    elif percentage >= 60:\n",
    "        grade = \"D\"\n",
    "    elif percentage >= 40:\n",
    "        grade = \"E\"\n",
    "    else:\n",
    "        grade = \"F\"\n",
    "\n",
    "    # Display the result\n",
    "    print(f\"Total Marks: {total_marks}\")\n",
    "    print(f\"Percentage: {percentage:.2f}%\")\n",
    "    print(f\"Grade: {grade}\")\n",
    "\n",
    "except ValueError as e:\n",
    "    print(f\"Error: {e}\")\n",
    "except Exception as e:\n",
    "    print(f\"An unexpected error occurred: {e}\")\n"
   ]
  },
  {
   "cell_type": "markdown",
   "id": "ce455db2",
   "metadata": {},
   "source": [
    "# 2.write a python code with exception handling to input electricity unit charges and calculate the total electricity bill according to the given conditions:\n",
    "i) for the fist 50 units Rs.0.50/unitii) for the next 100 units Rs.0.75/unit iii) for the next 100 units Rs.1.20/unit\n",
    "i)v for units   above 250  Rs.1.50/unit v) an additional subcharge of 20% is added to the bill"
   ]
  },
  {
   "cell_type": "code",
   "execution_count": 19,
   "id": "5219a6e8",
   "metadata": {},
   "outputs": [
    {
     "name": "stdout",
     "output_type": "stream",
     "text": [
      "Enter the electricity units consumed: 14\n",
      "Total Electricity Bill: Rs. 8.40\n"
     ]
    }
   ],
   "source": [
    "try:\n",
    "    # Input the electricity units consumed\n",
    "    units = float(input(\"Enter the electricity units consumed: \"))\n",
    "\n",
    "    # Check if units are within a valid range\n",
    "    if units < 0:\n",
    "        raise ValueError(\"Units consumed should be a positive number.\")\n",
    "\n",
    "    # Initialize variables for different rate slabs\n",
    "    rate_slab1 = 0.50  # Rate for the first 50 units\n",
    "    rate_slab2 = 0.75  # Rate for the next 100 units\n",
    "    rate_slab3 = 1.20  # Rate for the next 100 units\n",
    "    rate_slab4 = 1.50  # Rate for units above 250\n",
    "\n",
    "    # Calculate the total bill based on rate slabs\n",
    "    if units <= 50:\n",
    "        total_bill = units * rate_slab1\n",
    "    elif units <= 150:\n",
    "        total_bill = (50 * rate_slab1) + ((units - 50) * rate_slab2)\n",
    "    elif units <= 250:\n",
    "        total_bill = (50 * rate_slab1) + (100 * rate_slab2) + ((units - 150) * rate_slab3)\n",
    "    else:\n",
    "        total_bill = (50 * rate_slab1) + (100 * rate_slab2) + (100 * rate_slab3) + ((units - 250) * rate_slab4)\n",
    "\n",
    "    # Add 20% subcharge to the total bill\n",
    "    total_bill += (0.20 * total_bill)\n",
    "\n",
    "    # Display the total electricity bill\n",
    "    print(f\"Total Electricity Bill: Rs. {total_bill:.2f}\")\n",
    "\n",
    "except ValueError as e:\n",
    "    print(f\"Error: {e}\")\n",
    "except Exception as e:\n",
    "    print(f\"An unexpected error occurred: {e}\")\n"
   ]
  },
  {
   "cell_type": "markdown",
   "id": "64767dec",
   "metadata": {},
   "source": [
    "# 3.write a python program with exception handling to input the week number and print the weekday "
   ]
  },
  {
   "cell_type": "code",
   "execution_count": 2,
   "id": "20cd937f",
   "metadata": {},
   "outputs": [
    {
     "name": "stdout",
     "output_type": "stream",
     "text": [
      "Enter a week number (1-7): 2\n",
      "The weekday for week 2 is Tuesday.\n"
     ]
    }
   ],
   "source": [
    "def get_weekday(week_number):\n",
    "    weekdays = [\"Monday\", \"Tuesday\", \"Wednesday\", \"Thursday\", \"Friday\", \"Saturday\", \"Sunday\"]\n",
    "    \n",
    "    if 1 <= week_number <= 7:\n",
    "        return weekdays[week_number - 1]\n",
    "    else:\n",
    "        raise ValueError(\"Invalid week number. Please enter a number between 1 and 7.\")\n",
    "\n",
    "try:\n",
    "    week_number = int(input(\"Enter a week number (1-7): \"))\n",
    "    weekday = get_weekday(week_number)\n",
    "    print(f\"The weekday for week {week_number} is {weekday}.\")\n",
    "except ValueError as e:\n",
    "    print(f\"Error: {e}\")\n",
    "except Exception as e:\n",
    "    print(f\"An unexpected error occurred: {e}\")\n"
   ]
  },
  {
   "cell_type": "markdown",
   "id": "8382a06a",
   "metadata": {},
   "source": [
    "# 4.write a python code to implemnent a word count using command line arguments \n",
    "i) create a text document \"apple.txt\" which contains text for wordcount\n",
    "ii)create a word document program which calls the \"apple.txt\" document by opening the file.\n",
    "iii) if the word is present again in the \"apple.txt\",the wordcount is incremented by 1 untill all the words are counted in the document.\n",
    "iv)close the file\n",
    "v)create a command .py pogram which imports the wordcount.py program\n",
    "vi) count the no of words using command line arguments\n",
    "vii) print each word and its count"
   ]
  },
  {
   "cell_type": "code",
   "execution_count": null,
   "id": "1fde4788",
   "metadata": {},
   "outputs": [],
   "source": [
    "import argparse\n",
    "import os\n",
    "import sys\n",
    "\n",
    "def process_file(input_file, output_file):\n",
    "    try:\n",
    "        # Check if the input file exists\n",
    "        if not os.path.exists(input_file):\n",
    "            raise FileNotFoundError(f\"The input file '{input_file}' does not exist.\")\n",
    "\n",
    "        with open(input_file, 'r') as infile, open(output_file, 'w') as outfile:\n",
    "            # Perform text processing or any desired operations here\n",
    "            for line in infile:\n",
    "                # Example: In this case, we are just copying the content from the input file to the output file.\n",
    "                outfile.write(line)\n",
    "        print(f\"File processing complete. Output written to '{output_file}'.\")\n",
    "    except FileNotFoundError as e:\n",
    "        print(f\"Error: {e}\")\n",
    "        sys.exit(1)  # Exit with a non-zero exit code\n",
    "    except PermissionError:\n",
    "        print(f\"Error: Permission denied while writing to '{output_file}'.\")\n",
    "        sys.exit(1)\n",
    "    except Exception as e:\n",
    "        print(f\"An unexpected error occurred: {e}\")\n",
    "        sys.exit(1)\n",
    "\n",
    "if __name__ == \"__main__\":\n",
    "    parser = argparse.ArgumentParser(description=\"Command-line file processing utility\")\n",
    "    parser.add_argument(\"input_file\", help=\"Input file path\")\n",
    "    parser.add_argument(\"output_file\", help=\"Output file path\")\n",
    "    \n",
    "    args = parser.parse_args()\n",
    "    \n",
    "    input_file = args.input_file\n",
    "    output_file = args.output_file\n",
    "    \n",
    "    if not (input_file and output_file):\n",
    "        print(\"Error: Both input and output file paths are required.\")\n",
    "        sys.exit(1)\n",
    "    \n",
    "    process_file(input_file, output_file)\n"
   ]
  },
  {
   "cell_type": "markdown",
   "id": "98704a72",
   "metadata": {},
   "source": [
    "# 5.write  python program for finding the most frequent words in a text read from a file. i)intially open the text file.ii)make all the letters in thedocument into lowercase letters and split the words in eachline  iii).get the words in an order iv).sort the words fo finding th emost frequent words in the file. v)print the most fequesnt words in the file"
   ]
  },
  {
   "cell_type": "code",
   "execution_count": 6,
   "id": "097222e8",
   "metadata": {},
   "outputs": [
    {
     "name": "stdout",
     "output_type": "stream",
     "text": [
      "File 'demo.txt' not found.\n"
     ]
    }
   ],
   "source": [
    "import re\n",
    "from collections import Counter\n",
    "\n",
    "def get_most_frequent_words(file_path, num_words=10):\n",
    "    try:\n",
    "        with open(file_path, 'r') as file:\n",
    "            text = file.read().lower()  # Read the file and convert text to lowercase\n",
    "            words = re.findall(r'\\b\\w+\\b', text)  # Tokenize text into words\n",
    "\n",
    "            # Count word frequencies\n",
    "            word_counts = Counter(words)\n",
    "\n",
    "            # Get the most frequent words\n",
    "            most_common_words = word_counts.most_common(num_words)\n",
    "\n",
    "            return most_common_words\n",
    "    except FileNotFoundError:\n",
    "        return None\n",
    "\n",
    "if __name__ == \"__main__\":\n",
    "    file_path = \"demo.txt\"  # Replace with the path to your text file\n",
    "    num_words = 10  # Number of most frequent words to display\n",
    "\n",
    "    most_frequent_words = get_most_frequent_words(file_path, num_words)\n",
    "\n",
    "    if most_frequent_words:\n",
    "        print(f\"The {num_words} most frequent words in the file '{file_path}' are:\")\n",
    "        for word, count in most_frequent_words:\n",
    "            print(f\"{word}: {count}\")\n",
    "    else:\n",
    "        print(f\"File '{file_path}' not found.\")\n"
   ]
  },
  {
   "cell_type": "markdown",
   "id": "b843b24d",
   "metadata": {},
   "source": [
    "# 6.File processing with command line arguments-Scenario: you are  developing a command line utility that processes  text files.Users can specify input and output file paths as command line  arguments.Your orogram should handle exceptions gracefully\n",
    "\n",
    "i) Design a python program that takes two command line arguments: the input file path and the output file path.Ensure that the program checks if both arguments are provided and that the input file exists\n",
    "ii) implement the error handling to deal with scenarios such as missing input files, invalid file paths,or permission issues when writting to the output file.\n",
    "iii) if an error occurs duing the file processing.display a user friendly error message, and exit the program with a non zero exit code\n",
    "iv) write a test cases that cover various scenarious,including poviding valid and invalid file paths as command line arguments\n"
   ]
  },
  {
   "cell_type": "code",
   "execution_count": null,
   "id": "b2d0952d",
   "metadata": {},
   "outputs": [],
   "source": [
    "import argparse\n",
    "import os\n",
    "import sys\n",
    "\n",
    "def process_file(input_file, output_file):\n",
    "    try:\n",
    "        # Check if the input file exists\n",
    "        if not os.path.exists(input_file):\n",
    "            raise FileNotFoundError(f\"The input file '{input_file}' does not exist.\")\n",
    "\n",
    "        with open(input_file, 'r') as infile, open(output_file, 'w') as outfile:\n",
    "            # Perform text processing or any desired operations here\n",
    "            for line in infile:\n",
    "                # Example: In this case, we are just copying the content from the input file to the output file.\n",
    "                outfile.write(line)\n",
    "        print(f\"File processing complete. Output written to '{output_file}'.\")\n",
    "    except FileNotFoundError as e:\n",
    "        print(f\"Error: {e}\")\n",
    "        sys.exit(1)  # Exit with a non-zero exit code\n",
    "    except PermissionError:\n",
    "        print(f\"Error: Permission denied while writing to '{output_file}'.\")\n",
    "        sys.exit(1)\n",
    "    except Exception as e:\n",
    "        print(f\"An unexpected error occurred: {e}\")\n",
    "        sys.exit(1)\n",
    "\n",
    "if __name__ == \"__main__\":\n",
    "    parser = argparse.ArgumentParser(description=\"Command-line file processing utility\")\n",
    "    parser.add_argument(\"input_file\", help=\"Input file path\")\n",
    "    parser.add_argument(\"output_file\", help=\"Output file path\")\n",
    "    \n",
    "    args = parser.parse_args()\n",
    "    \n",
    "    input_file = args.input_file\n",
    "    output_file = args.output_file\n",
    "    \n",
    "    if not (input_file and output_file):\n",
    "        print(\"Error: Both input and output file paths are required.\")\n",
    "        sys.exit(1)\n",
    "    \n",
    "    process_file(input_file, output_file)\n"
   ]
  }
 ],
 "metadata": {
  "kernelspec": {
   "display_name": "Python 3 (ipykernel)",
   "language": "python",
   "name": "python3"
  },
  "language_info": {
   "codemirror_mode": {
    "name": "ipython",
    "version": 3
   },
   "file_extension": ".py",
   "mimetype": "text/x-python",
   "name": "python",
   "nbconvert_exporter": "python",
   "pygments_lexer": "ipython3",
   "version": "3.11.4"
  }
 },
 "nbformat": 4,
 "nbformat_minor": 5
}
